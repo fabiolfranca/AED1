{
 "cells": [
  {
   "cell_type": "markdown",
   "id": "660dcdcb-8f0c-415c-83dc-6b074f8abdf0",
   "metadata": {},
   "source": [
    "# Construindo um jogo de adivinhção"
   ]
  },
  {
   "cell_type": "code",
   "execution_count": null,
   "id": "3a64413d-3af2-4406-a6bf-674c7f03c5da",
   "metadata": {},
   "outputs": [],
   "source": [
    "import random\n",
    " \n",
    "n_scrt = random.randint(1, 101)\n",
    "tot_tent = 0\n",
    "dif = \"\"\n",
    " \n",
    "while dif != \"F\" or dif != \"M\" or dif != \"D\":\n",
    "    dif = input(\"Escolha a dificuldade \\n\" \"[F] Facil \\n\" \"[M] Medio \\n\" \"[D] Difícil \\n\").upper()\n",
    "    \n",
    "    if dif == \"Facil [f]\":\n",
    "        tot_tent = 20\n",
    "        break\n",
    "    elif dif == \"Médio [m]\":\n",
    "        tot_tent = 10\n",
    "        break\n",
    "    elif dif == \"Dificil [d]\":\n",
    "        tot_tent = 5\n",
    "        break\n",
    "    else:\n",
    "        print (\"favor inserir um valor correto\")\n",
    " \n",
    "for rod in range (1, tot_tent + 1):\n",
    "    print(\"Tentativas\", str(rod), \"de\", str(tot_tent))\n",
    "    val_esc = int(input(\"Digite um número de 1 a 100:\"))\n",
    "    print(\"voce digitou\", str(val_esc))\n",
    " \n",
    "    if val_esc < 1 or val_esc > 100:\n",
    "        print(\"número invalido!\")\n",
    "        continue\n",
    "    act = val_esc == n_scrt\n",
    "    maior = val_esc > n_scrt\n",
    "    menor = val_esc < n_scrt\n",
    " \n",
    "    if act:\n",
    "        print(\"Parabens! você acertou o numero!!\")\n",
    "        break\n",
    "    else:\n",
    "        if maior :\n",
    "            print(\"você errou, o numero é menor\")\n",
    "        elif menor:\n",
    "            print(\"você errou, o numero é maior :(\")\n",
    " \n",
    "print (\"fim de jogo\")"
   ]
  },
  {
   "cell_type": "code",
   "execution_count": null,
   "id": "0a1114c8-73a8-456b-b85a-6ae9ffade07b",
   "metadata": {},
   "outputs": [],
   "source": []
  }
 ],
 "metadata": {
  "kernelspec": {
   "display_name": "Python [conda env:base] *",
   "language": "python",
   "name": "conda-base-py"
  },
  "language_info": {
   "codemirror_mode": {
    "name": "ipython",
    "version": 3
   },
   "file_extension": ".py",
   "mimetype": "text/x-python",
   "name": "python",
   "nbconvert_exporter": "python",
   "pygments_lexer": "ipython3",
   "version": "3.12.7"
  }
 },
 "nbformat": 4,
 "nbformat_minor": 5
}
