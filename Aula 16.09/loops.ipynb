{
 "cells": [
  {
   "cell_type": "code",
   "execution_count": 39,
   "id": "95d40f8d-528b-4090-ade4-a7443a6b488b",
   "metadata": {},
   "outputs": [
    {
     "name": "stdin",
     "output_type": "stream",
     "text": [
      "digite um valor:  12\n"
     ]
    },
    {
     "name": "stdout",
     "output_type": "stream",
     "text": [
      "o valor de E é:  8190\n"
     ]
    }
   ],
   "source": [
    "#Exercicio 1 for \n",
    "n = int(input('digite um valor: '))\n",
    "e = 0 \n",
    "\n",
    "for i in range(1, n+1):\n",
    "    e = e + (2**i)\n",
    "\n",
    "print('o valor de E é: ', e)"
   ]
  },
  {
   "cell_type": "code",
   "execution_count": 67,
   "id": "4814873f-9a51-4a10-bf08-56a14b8426ed",
   "metadata": {},
   "outputs": [
    {
     "name": "stdin",
     "output_type": "stream",
     "text": [
      "digite um valor:  12\n"
     ]
    },
    {
     "name": "stdout",
     "output_type": "stream",
     "text": [
      "o valor de E é:  8190\n"
     ]
    }
   ],
   "source": [
    "#exercicio 1 while\n",
    "n = int(input('digite um valor: '))\n",
    "e = 0 \n",
    "i = 1\n",
    "\n",
    "while i <= n:\n",
    "    e = e + (2 ** i)\n",
    "    i = i + 1\n",
    "\n",
    "print('o valor de E é: ', e)\n"
   ]
  },
  {
   "cell_type": "code",
   "execution_count": 91,
   "id": "f8f0bd98-4873-473f-b19a-1ef8d58981ff",
   "metadata": {},
   "outputs": [
    {
     "data": {
      "text/plain": [
       "[0,\n",
       " 4,\n",
       " 8,\n",
       " 12,\n",
       " 16,\n",
       " 20,\n",
       " 24,\n",
       " 28,\n",
       " 32,\n",
       " 36,\n",
       " 40,\n",
       " 44,\n",
       " 48,\n",
       " 52,\n",
       " 56,\n",
       " 60,\n",
       " 64,\n",
       " 68,\n",
       " 72,\n",
       " 76,\n",
       " 80,\n",
       " 84,\n",
       " 88,\n",
       " 92,\n",
       " 96]"
      ]
     },
     "execution_count": 91,
     "metadata": {},
     "output_type": "execute_result"
    }
   ],
   "source": [
    "#exercicio 2\n",
    "numeros = [x + x for x in range(50) if x % 2 == 0]\n",
    "numeros"
   ]
  },
  {
   "cell_type": "code",
   "execution_count": 103,
   "id": "a57ea777-aa0e-44e2-8d62-288d787f962d",
   "metadata": {},
   "outputs": [
    {
     "name": "stdout",
     "output_type": "stream",
     "text": [
      "\n",
      "Pessoa 1:\n"
     ]
    },
    {
     "name": "stdin",
     "output_type": "stream",
     "text": [
      "Digite o peso (kg):  80\n",
      "Digite a altura (m):  1.90\n"
     ]
    },
    {
     "name": "stdout",
     "output_type": "stream",
     "text": [
      "\n",
      "Pessoa 2:\n"
     ]
    },
    {
     "name": "stdin",
     "output_type": "stream",
     "text": [
      "Digite o peso (kg):  70\n",
      "Digite a altura (m):  1.69\n"
     ]
    },
    {
     "name": "stdout",
     "output_type": "stream",
     "text": [
      "\n",
      "Pessoa 3:\n"
     ]
    },
    {
     "name": "stdin",
     "output_type": "stream",
     "text": [
      "Digite o peso (kg):  200\n",
      "Digite a altura (m):  1.60\n"
     ]
    },
    {
     "name": "stdout",
     "output_type": "stream",
     "text": [
      "\n",
      "Pessoa 4:\n"
     ]
    },
    {
     "name": "stdin",
     "output_type": "stream",
     "text": [
      "Digite o peso (kg):  87\n",
      "Digite a altura (m):  1.90\n"
     ]
    },
    {
     "name": "stdout",
     "output_type": "stream",
     "text": [
      "\n",
      "Pessoa 5:\n"
     ]
    },
    {
     "name": "stdin",
     "output_type": "stream",
     "text": [
      "Digite o peso (kg):  50\n",
      "Digite a altura (m):  1.55\n"
     ]
    },
    {
     "name": "stdout",
     "output_type": "stream",
     "text": [
      "\n",
      "RESULTADOS:\n",
      "Peso médio: 97.40 kg\n",
      "Altura média: 1.73 m\n",
      "Maior IMC: 78.12\n",
      "Menor IMC: 20.81\n"
     ]
    }
   ],
   "source": [
    "\n",
    "soma_pesos = 0\n",
    "soma_alturas = 0\n",
    "maior_imc = 0\n",
    "menor_imc = float('inf')  \n",
    "\n",
    "\n",
    "for i in range(5):\n",
    "    print(f\"\\nPessoa {i+1}:\")\n",
    "    peso = float(input(\"Digite o peso (kg): \"))\n",
    "    altura = float(input(\"Digite a altura (m): \"))\n",
    "    \n",
    "  \n",
    "    soma_pesos += peso\n",
    "    soma_alturas += altura\n",
    "    \n",
    "   \n",
    "    imc = peso / (altura * altura)\n",
    "    \n",
    "    \n",
    "    if imc > maior_imc:\n",
    "        maior_imc = imc\n",
    "    if imc < menor_imc:\n",
    "        menor_imc = imc\n",
    "\n",
    "\n",
    "peso_medio = soma_pesos / 5\n",
    "altura_media = soma_alturas / 5\n",
    "\n",
    "print(f\"\\nRESULTADOS:\")\n",
    "print(f\"Peso médio: {peso_medio:.2f} kg\")\n",
    "print(f\"Altura média: {altura_media:.2f} m\")\n",
    "print(f\"Maior IMC: {maior_imc:.2f}\")\n",
    "print(f\"Menor IMC: {menor_imc:.2f}\")"
   ]
  },
  {
   "cell_type": "code",
   "execution_count": null,
   "id": "3314850c-683f-489f-a175-22c658ef1af0",
   "metadata": {},
   "outputs": [],
   "source": [
    "#exercicio 4\n"
   ]
  }
 ],
 "metadata": {
  "kernelspec": {
   "display_name": "Python [conda env:base] *",
   "language": "python",
   "name": "conda-base-py"
  },
  "language_info": {
   "codemirror_mode": {
    "name": "ipython",
    "version": 3
   },
   "file_extension": ".py",
   "mimetype": "text/x-python",
   "name": "python",
   "nbconvert_exporter": "python",
   "pygments_lexer": "ipython3",
   "version": "3.12.7"
  }
 },
 "nbformat": 4,
 "nbformat_minor": 5
}
