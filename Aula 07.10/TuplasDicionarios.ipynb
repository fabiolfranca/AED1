{
 "cells": [
  {
   "cell_type": "markdown",
   "id": "bdc9979b-272a-4579-867f-6af180dde260",
   "metadata": {},
   "source": [
    "Tuplas"
   ]
  },
  {
   "cell_type": "code",
   "execution_count": 34,
   "id": "2ac0d57c-f3e6-4250-bb55-0fa71f9c69fb",
   "metadata": {},
   "outputs": [
    {
     "data": {
      "text/plain": [
       "('fabio', 1, 2, 'lala')"
      ]
     },
     "execution_count": 34,
     "metadata": {},
     "output_type": "execute_result"
    }
   ],
   "source": [
    "#as tuplas nao podem ser mutadas\n",
    "tupla1 = ('fabio', 1, 2, 'lala')\n",
    "tupla1"
   ]
  },
  {
   "cell_type": "code",
   "execution_count": 36,
   "id": "5679f9ea-648a-423d-aeee-70d233c604db",
   "metadata": {},
   "outputs": [
    {
     "ename": "TypeError",
     "evalue": "'tuple' object does not support item deletion",
     "output_type": "error",
     "traceback": [
      "\u001b[1;31m---------------------------------------------------------------------------\u001b[0m",
      "\u001b[1;31mTypeError\u001b[0m                                 Traceback (most recent call last)",
      "Cell \u001b[1;32mIn[36], line 2\u001b[0m\n\u001b[0;32m      1\u001b[0m \u001b[38;5;66;03m#nem deletar\u001b[39;00m\n\u001b[1;32m----> 2\u001b[0m \u001b[38;5;28;01mdel\u001b[39;00m tupla1[\u001b[38;5;124m'\u001b[39m\u001b[38;5;124mfabio\u001b[39m\u001b[38;5;124m'\u001b[39m]\n",
      "\u001b[1;31mTypeError\u001b[0m: 'tuple' object does not support item deletion"
     ]
    }
   ],
   "source": [
    "#nem deletar\n",
    "del tupla1['fabio']"
   ]
  },
  {
   "cell_type": "code",
   "execution_count": 26,
   "id": "a13f4afa-61cc-432d-bd76-c9d8d9af0568",
   "metadata": {},
   "outputs": [
    {
     "data": {
      "text/plain": [
       "'chocolate'"
      ]
     },
     "execution_count": 26,
     "metadata": {},
     "output_type": "execute_result"
    }
   ],
   "source": [
    "#podemos recriar as tuplas\n",
    "tupla1 = ('chocolate')\n",
    "tupla1"
   ]
  },
  {
   "cell_type": "code",
   "execution_count": 28,
   "id": "89bcc1cc-e3dc-4f87-8cf1-e87aafad222e",
   "metadata": {},
   "outputs": [
    {
     "data": {
      "text/plain": [
       "'c'"
      ]
     },
     "execution_count": 28,
     "metadata": {},
     "output_type": "execute_result"
    }
   ],
   "source": [
    "#podemos acessar os elementos tambem\n",
    "tupla1[0]"
   ]
  },
  {
   "cell_type": "code",
   "execution_count": 40,
   "id": "29f619e9-5e52-46fa-b691-4469b62e4fcf",
   "metadata": {},
   "outputs": [
    {
     "data": {
      "text/plain": [
       "(1, 2, 'lala')"
      ]
     },
     "execution_count": 40,
     "metadata": {},
     "output_type": "execute_result"
    }
   ],
   "source": [
    "# e tambem fazer slicing\n",
    "tupla1[1:]"
   ]
  },
  {
   "cell_type": "code",
   "execution_count": 42,
   "id": "5afa4841-3cc5-49e2-8f54-e51492858ac1",
   "metadata": {},
   "outputs": [
    {
     "data": {
      "text/plain": [
       "0"
      ]
     },
     "execution_count": 42,
     "metadata": {},
     "output_type": "execute_result"
    }
   ],
   "source": [
    "tupla1.index('fabio')"
   ]
  },
  {
   "cell_type": "markdown",
   "id": "d5bbe1ec-592e-4282-a97e-38fc3ccba878",
   "metadata": {},
   "source": [
    "podemos apenas deletar a tupla como um todo"
   ]
  },
  {
   "cell_type": "code",
   "execution_count": 85,
   "id": "86ce3499-b606-45ba-ba17-5e013e560a38",
   "metadata": {},
   "outputs": [],
   "source": [
    "#mostrando como alterar a tupla (primeiro transformamos em lista depois adicionamos o valor e transformamos em tupla novamente\n",
    "t2 = (1, 'fabio')"
   ]
  },
  {
   "cell_type": "code",
   "execution_count": 87,
   "id": "73317d42-027f-4312-82c6-2f625f6d1f4f",
   "metadata": {},
   "outputs": [],
   "source": [
    "lista_t2 = list(t2)"
   ]
  },
  {
   "cell_type": "code",
   "execution_count": 89,
   "id": "78c70310-03bf-4d19-bf15-fbad101ba7e5",
   "metadata": {},
   "outputs": [
    {
     "data": {
      "text/plain": [
       "list"
      ]
     },
     "execution_count": 89,
     "metadata": {},
     "output_type": "execute_result"
    }
   ],
   "source": [
    "type(lista_t2)"
   ]
  },
  {
   "cell_type": "code",
   "execution_count": 91,
   "id": "3aaad9e5-682f-4b18-8934-e9f6b89ca4f6",
   "metadata": {},
   "outputs": [
    {
     "data": {
      "text/plain": [
       "tuple"
      ]
     },
     "execution_count": 91,
     "metadata": {},
     "output_type": "execute_result"
    }
   ],
   "source": [
    "type(t2)"
   ]
  },
  {
   "cell_type": "code",
   "execution_count": 93,
   "id": "6333d3e3-87bf-4416-a940-11526edb6edb",
   "metadata": {},
   "outputs": [],
   "source": [
    "lista_t2.append('a')"
   ]
  },
  {
   "cell_type": "code",
   "execution_count": 95,
   "id": "a05e92a9-4bfa-4fa4-b54f-f91158f8ab2a",
   "metadata": {},
   "outputs": [
    {
     "data": {
      "text/plain": [
       "[1, 'fabio', 'a']"
      ]
     },
     "execution_count": 95,
     "metadata": {},
     "output_type": "execute_result"
    }
   ],
   "source": [
    "lista_t2"
   ]
  },
  {
   "cell_type": "code",
   "execution_count": 97,
   "id": "3d5ad0ff-c607-418e-b6d9-a5742fa9445e",
   "metadata": {},
   "outputs": [
    {
     "data": {
      "text/plain": [
       "(1, 'fabio', 'a')"
      ]
     },
     "execution_count": 97,
     "metadata": {},
     "output_type": "execute_result"
    }
   ],
   "source": [
    "t2 = tuple(lista_t2)\n",
    "t2"
   ]
  },
  {
   "cell_type": "code",
   "execution_count": 99,
   "id": "b88a0d5a-be31-48c8-8617-b70f03b99bc3",
   "metadata": {},
   "outputs": [
    {
     "data": {
      "text/plain": [
       "tuple"
      ]
     },
     "execution_count": 99,
     "metadata": {},
     "output_type": "execute_result"
    }
   ],
   "source": [
    "type(t2)"
   ]
  },
  {
   "cell_type": "markdown",
   "id": "2e5731c4-079d-4bcb-81b3-41d8ebeb24be",
   "metadata": {},
   "source": [
    "## Exercicio 1 tupla"
   ]
  },
  {
   "cell_type": "code",
   "execution_count": 166,
   "id": "b7e33a8e-4c33-4b6e-a445-8ce3dac3ba97",
   "metadata": {},
   "outputs": [
    {
     "name": "stdin",
     "output_type": "stream",
     "text": [
      "Digite a idade: , e aperte -1 para encerrar 1\n",
      "Digite a idade: , e aperte -1 para encerrar 12\n",
      "Digite a idade: , e aperte -1 para encerrar 15\n",
      "Digite a idade: , e aperte -1 para encerrar 12\n",
      "Digite a idade: , e aperte -1 para encerrar 17\n",
      "Digite a idade: , e aperte -1 para encerrar -1\n"
     ]
    },
    {
     "name": "stdout",
     "output_type": "stream",
     "text": [
      "As idades a seguir:  (1, 12, 15, 12, 17)\n",
      "A media das idades : 11.4\n",
      "Quantidade de idades : 5\n"
     ]
    }
   ],
   "source": [
    "idades =  []\n",
    "\n",
    "\n",
    "for x in range(1000):\n",
    "    idade = int(input('Digite a idade: , e aperte -1 para encerrar'))\n",
    "    if idade == -1:\n",
    "        break\n",
    "    idades.append(idade)\n",
    "\n",
    "media  =  sum(idades) / len(idades)\n",
    "\n",
    "quantidade =  len(idades)\n",
    "\n",
    "idades1 = tuple(idades)\n",
    "print('As idades a seguir: ',idades1)\n",
    "print('A media das idades :', media)\n",
    "print('Quantidade de idades :', quantidade)"
   ]
  },
  {
   "cell_type": "markdown",
   "id": "6032718a-3e20-41d6-a910-a93dbb7ff4db",
   "metadata": {},
   "source": [
    "## DICIONARIO"
   ]
  },
  {
   "cell_type": "code",
   "execution_count": 170,
   "id": "ae74e0b6-30d9-4831-bcf9-b20693f3045b",
   "metadata": {},
   "outputs": [],
   "source": [
    "estudante_dict = {'fabio': 20, \"matheus\": 23, 'lucas': 30}"
   ]
  },
  {
   "cell_type": "code",
   "execution_count": 172,
   "id": "bba57a0d-eb8c-4f75-b5b2-4606ebead128",
   "metadata": {},
   "outputs": [
    {
     "data": {
      "text/plain": [
       "{'fabio': 20, 'matheus': 23, 'lucas': 30}"
      ]
     },
     "execution_count": 172,
     "metadata": {},
     "output_type": "execute_result"
    }
   ],
   "source": [
    "estudante_dict"
   ]
  },
  {
   "cell_type": "code",
   "execution_count": 174,
   "id": "34efe0ef-742c-4ff5-9557-fe4315ad51d6",
   "metadata": {},
   "outputs": [
    {
     "data": {
      "text/plain": [
       "dict_keys(['fabio', 'matheus', 'lucas'])"
      ]
     },
     "execution_count": 174,
     "metadata": {},
     "output_type": "execute_result"
    }
   ],
   "source": [
    "estudante_dict.keys()"
   ]
  },
  {
   "cell_type": "code",
   "execution_count": 178,
   "id": "522d90ff-7261-4648-b9fd-921d324ec5e9",
   "metadata": {},
   "outputs": [
    {
     "data": {
      "text/plain": [
       "dict_values([20, 23, 30])"
      ]
     },
     "execution_count": 178,
     "metadata": {},
     "output_type": "execute_result"
    }
   ],
   "source": [
    "estudante_dict.values()"
   ]
  },
  {
   "cell_type": "code",
   "execution_count": 180,
   "id": "83e27a4d-ffe2-4168-b461-0b88c37ea09f",
   "metadata": {},
   "outputs": [
    {
     "data": {
      "text/plain": [
       "dict_items([('fabio', 20), ('matheus', 23), ('lucas', 30)])"
      ]
     },
     "execution_count": 180,
     "metadata": {},
     "output_type": "execute_result"
    }
   ],
   "source": [
    "estudante_dict.items()"
   ]
  },
  {
   "cell_type": "markdown",
   "id": "f4a4da36-2c5e-49c1-b4ef-275f5a080671",
   "metadata": {},
   "source": [
    "## Exercicio 3"
   ]
  },
  {
   "cell_type": "code",
   "execution_count": 271,
   "id": "c599af58-0769-42aa-ad85-4a91cc821e2e",
   "metadata": {},
   "outputs": [
    {
     "name": "stdin",
     "output_type": "stream",
     "text": [
      "digite o sobrenome:  la\n",
      "digite a idade:  32\n",
      "digite o sobrenome:  fd\n",
      "digite a idade:  54\n",
      "digite o sobrenome:  a\n",
      "digite a idade:  12\n",
      "digite o sobrenome:  f\n",
      "digite a idade:  65\n",
      "digite o sobrenome:  v\n",
      "digite a idade:  76\n"
     ]
    }
   ],
   "source": [
    "pessoas = {}\n",
    "\n",
    "for x in range(5):\n",
    "    sobrenome  = input('digite o sobrenome: ')\n",
    "    idade = int(input('digite a idade: '))\n",
    "    pessoas[sobrenome] = idade \n"
   ]
  },
  {
   "cell_type": "code",
   "execution_count": 285,
   "id": "b7f5d82e-e8d6-4a35-883d-980c68f2ac1f",
   "metadata": {},
   "outputs": [],
   "source": [
    "idades = []\n",
    "sobrenomes = []\n",
    "\n",
    "\n",
    "for s, i in pessoas.items():\n",
    "    idades.append(i)\n",
    "    sobrenomes.append(s)"
   ]
  },
  {
   "cell_type": "code",
   "execution_count": 289,
   "id": "dab5896b-380f-4176-9fce-b2f30fa814f8",
   "metadata": {},
   "outputs": [
    {
     "name": "stdout",
     "output_type": "stream",
     "text": [
      "A pessoa com maior idade é v\n"
     ]
    }
   ],
   "source": [
    "maior = max(idades)\n",
    "indice_maior = idades.index(maior)\n",
    "print(f\"A pessoa com maior idade é {sobrenomes[indice_maior]}\")"
   ]
  },
  {
   "cell_type": "code",
   "execution_count": null,
   "id": "bc1844bf-f6b9-4182-9b46-50093683a564",
   "metadata": {},
   "outputs": [],
   "source": []
  }
 ],
 "metadata": {
  "kernelspec": {
   "display_name": "Python [conda env:base] *",
   "language": "python",
   "name": "conda-base-py"
  },
  "language_info": {
   "codemirror_mode": {
    "name": "ipython",
    "version": 3
   },
   "file_extension": ".py",
   "mimetype": "text/x-python",
   "name": "python",
   "nbconvert_exporter": "python",
   "pygments_lexer": "ipython3",
   "version": "3.12.7"
  }
 },
 "nbformat": 4,
 "nbformat_minor": 5
}
