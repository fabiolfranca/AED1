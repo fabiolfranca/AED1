{
 "cells": [
  {
   "cell_type": "markdown",
   "id": "83c73e0e-309d-4078-87d9-fc742e73da50",
   "metadata": {},
   "source": [
    "x = 3y / 5y+7 +2 --> essa expressão se transforma nessa (em python)"
   ]
  },
  {
   "cell_type": "markdown",
   "id": "58cabd0b-071f-4035-980e-11b29398ceef",
   "metadata": {},
   "source": [
    "x = ((3*y)/(5*y+7)) + (2*y)"
   ]
  },
  {
   "cell_type": "markdown",
   "id": "fece3e38-4f2c-4580-8369-ab9f4fcf1ab2",
   "metadata": {},
   "source": [
    "y = x + 3^b / 2^x + c\n",
    "\n",
    "y = (x + 3*b) / (2*x + c)"
   ]
  },
  {
   "cell_type": "code",
   "execution_count": 45,
   "id": "68a70dc7-caed-4246-990e-83c591437f67",
   "metadata": {},
   "outputs": [
    {
     "data": {
      "text/plain": [
       "2.0"
      ]
     },
     "execution_count": 45,
     "metadata": {},
     "output_type": "execute_result"
    }
   ],
   "source": [
    "#exercicio 1\n",
    "x = ((2+6/3)) / ((4 - 8/4))\n",
    "x"
   ]
  },
  {
   "cell_type": "code",
   "execution_count": 46,
   "id": "f75c0f80-bff3-4e5e-bace-db96c1b47030",
   "metadata": {},
   "outputs": [
    {
     "data": {
      "text/plain": [
       "-1.625"
      ]
     },
     "execution_count": 46,
     "metadata": {},
     "output_type": "execute_result"
    }
   ],
   "source": [
    "# exercicio 2\n",
    "\n",
    "y = (((2*2**2 - 3*2**(2+1)) / 2) + (2+1**(0.5))/2)/(2*2)\n",
    "y"
   ]
  },
  {
   "cell_type": "code",
   "execution_count": 47,
   "id": "c449a78a-0407-48ad-bfd1-65e020a5a942",
   "metadata": {},
   "outputs": [
    {
     "data": {
      "text/plain": [
       "-1.7834936490538904"
      ]
     },
     "execution_count": 47,
     "metadata": {},
     "output_type": "execute_result"
    }
   ],
   "source": [
    "from math import sqrt\n",
    "\n",
    "yy = (((2*2**2 - 3*2**(2+1)) / 2) + (math.sqrt(2+1)/2))/(2*2)\n",
    "yy"
   ]
  },
  {
   "cell_type": "code",
   "execution_count": null,
   "id": "aa5337e9-801d-4b4e-9481-e83f7dd8a27c",
   "metadata": {},
   "outputs": [],
   "source": []
  }
 ],
 "metadata": {
  "kernelspec": {
   "display_name": "Python [conda env:base] *",
   "language": "python",
   "name": "conda-base-py"
  },
  "language_info": {
   "codemirror_mode": {
    "name": "ipython",
    "version": 3
   },
   "file_extension": ".py",
   "mimetype": "text/x-python",
   "name": "python",
   "nbconvert_exporter": "python",
   "pygments_lexer": "ipython3",
   "version": "3.12.7"
  }
 },
 "nbformat": 4,
 "nbformat_minor": 5
}
