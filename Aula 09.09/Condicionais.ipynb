{
 "cells": [
  {
   "cell_type": "code",
   "execution_count": 11,
   "id": "345fc22f-207a-4dd3-86ff-fefb9caa1077",
   "metadata": {},
   "outputs": [
    {
     "name": "stdout",
     "output_type": "stream",
     "text": [
      "coco\n"
     ]
    }
   ],
   "source": [
    "x = 2\n",
    "if x > 3: \n",
    "    print('lala')\n",
    "else:\n",
    "    print('coco')"
   ]
  },
  {
   "cell_type": "code",
   "execution_count": 43,
   "id": "9273ee60-9e97-4a8c-9157-c7ffa66fa1aa",
   "metadata": {},
   "outputs": [
    {
     "name": "stdin",
     "output_type": "stream",
     "text": [
      "Digite sua profissao:  medico\n"
     ]
    },
    {
     "name": "stdout",
     "output_type": "stream",
     "text": [
      "gracas a deus\n"
     ]
    }
   ],
   "source": [
    "profissao = input('Digite sua profissao: ')\n",
    "    \n",
    "if profissao == (\"medico\"):\n",
    "        print('gracas a deus')\n",
    "else: \n",
    "    print(\"SAIAAA\")"
   ]
  },
  {
   "cell_type": "code",
   "execution_count": 141,
   "id": "c3abebad-67ac-4e67-b554-1a1a11fcdf59",
   "metadata": {},
   "outputs": [
    {
     "name": "stdin",
     "output_type": "stream",
     "text": [
      "Digite a idade do Nadador:  1\n"
     ]
    },
    {
     "name": "stdout",
     "output_type": "stream",
     "text": [
      "infantil\n"
     ]
    }
   ],
   "source": [
    "#exercicio 2\n",
    "nadador = int(input('Digite a idade do Nadador: '))\n",
    "\n",
    "if nadador <= 7:\n",
    "    print('infantil')\n",
    "elif nadador <= 10:\n",
    "    print('juvenil')\n",
    "elif nadador <= 15:\n",
    "    print('adolescente')\n",
    "elif nadador <=30:\n",
    "    print('adulto')\n",
    "else:\n",
    "    print('senior')"
   ]
  },
  {
   "cell_type": "code",
   "execution_count": 149,
   "id": "807aeedc-04bd-4a3b-8130-e6b2e7d30773",
   "metadata": {},
   "outputs": [
    {
     "name": "stdin",
     "output_type": "stream",
     "text": [
      "Digite o primeiro lado 2\n",
      "Digite o segundo lado 2\n",
      "Digite o terceiro lado 4\n"
     ]
    },
    {
     "name": "stdout",
     "output_type": "stream",
     "text": [
      "Triangulo escaleno\n"
     ]
    }
   ],
   "source": [
    "#exercicio 3 \n",
    "lado1 = float(input('Digite o primeiro lado'))\n",
    "lado2 = float(input('Digite o segundo lado'))\n",
    "lado3 = float(input('Digite o terceiro lado'))\n",
    "\n",
    "if lado1  <= 0 or lado2 <=0 or lado3 <= 0:\n",
    "    print('nem tem triangulo ai cara')\n",
    "\n",
    "else: \n",
    "    if (lado1 + lado2 > lado3) and (lado1 + lado3 > lado2) and (lado2 + lado3 > lado1):\n",
    "        if lado1 == lado2 and lado2 == lado3:\n",
    "            print('É um triangulo equilatero')\n",
    "        elif lado1 == lado2 or lado1 == lado3 or lado2 == lado3:\n",
    "            print('É um triangulo Isóceles')\n",
    "    else:\n",
    "        print('Triangulo escaleno')"
   ]
  },
  {
   "cell_type": "code",
   "execution_count": 187,
   "id": "ab4dbc6d-4389-49bf-a8f9-1b11ca831e02",
   "metadata": {},
   "outputs": [
    {
     "name": "stdin",
     "output_type": "stream",
     "text": [
      "Digite o preço do produto:  12\n",
      "Código de origem de produto:  4\n"
     ]
    },
    {
     "name": "stdout",
     "output_type": "stream",
     "text": [
      "procedencia: centro-oeste\n",
      "preco final:  13.44\n"
     ]
    }
   ],
   "source": [
    "#exercicio 4 \n",
    "preco_liquido = int(input('Digite o preço do produto: '))\n",
    "codigo_origem = int(input('Código de origem de produto: '))\n",
    "\n",
    "\n",
    "if codigo_origem == 1:\n",
    "    procedencia = 'sul'\n",
    "    imposto = 11\n",
    "elif codigo_origem == 2:\n",
    "    procedencia = 'norte'\n",
    "    imposto = 13\n",
    "elif codigo_origem == 3:\n",
    "    procedencia = 'nordeste'\n",
    "    imposto = 9\n",
    "elif codigo_origem == 4:\n",
    "    procedencia = 'centro-oeste'\n",
    "    imposto = 12\n",
    "elif codigo_origem == 5:\n",
    "    procedencia = 'sudeste'\n",
    "    imposto = 18\n",
    "\n",
    "else:\n",
    "    procedencia = 'codigo invalido'\n",
    "    imposto = 0\n",
    "\n",
    "if procedencia != 'codigo invalido':\n",
    "    preco_final = preco_liquido + (preco_liquido * imposto / 100)\n",
    "    print('procedencia: ' + procedencia)\n",
    "    print('preco final: ', preco_final)\n",
    "else:\n",
    "    print('codigo errado burrao')"
   ]
  },
  {
   "cell_type": "code",
   "execution_count": 255,
   "id": "5a0bc373-c270-4c7b-828e-fae230f5d5e3",
   "metadata": {},
   "outputs": [
    {
     "name": "stdout",
     "output_type": "stream",
     "text": [
      "vou verificar se sua letra é vogal ou consoante\n"
     ]
    },
    {
     "name": "stdin",
     "output_type": "stream",
     "text": [
      "Digite sua letra:  f\n"
     ]
    },
    {
     "name": "stdout",
     "output_type": "stream",
     "text": [
      "é uma consoante\n"
     ]
    }
   ],
   "source": [
    "#exercicio 1 \n",
    "vogais = ['a', 'e', 'i', 'o', 'u']\n",
    "\n",
    "\n",
    "print('vou verificar se sua letra é vogal ou consoante')\n",
    "letra = input('Digite sua letra: ').lower()\n",
    "\n",
    "if letra in vogais:\n",
    "    print('é uma vogal')\n",
    "else: \n",
    "    print('é uma consoante')"
   ]
  },
  {
   "cell_type": "code",
   "execution_count": 311,
   "id": "4be7a164-68a2-4ec5-9b33-0ad9a768e66c",
   "metadata": {},
   "outputs": [
    {
     "name": "stdout",
     "output_type": "stream",
     "text": [
      "Cálculo de raízes de equação do segundo grau (ax² + bx + c = 0)\n"
     ]
    },
    {
     "name": "stdin",
     "output_type": "stream",
     "text": [
      "Digite o coeficiente x²:  1\n",
      "coeficiente x:  -3\n",
      "termo independente:  -4\n"
     ]
    },
    {
     "name": "stdout",
     "output_type": "stream",
     "text": [
      "delta = 25 positivo\n",
      "a equação possui duas raizes reais: \n",
      "x1=  4.0\n",
      "x2=  -1.0\n"
     ]
    }
   ],
   "source": [
    "#exercicio 5\n",
    "print(\"Cálculo de raízes de equação do segundo grau (ax² + bx + c = 0)\")\n",
    "\n",
    "while True:\n",
    "    a = int(input('Digite o coeficiente x²: '))\n",
    "\n",
    "    if a == 0:\n",
    "        print('erro! o valor de a nao pode ser 0')\n",
    "        \n",
    "    else:\n",
    "        break \n",
    "\n",
    "b = int(input('coeficiente x: '))\n",
    "c = int(input('termo independente: '))\n",
    "\n",
    "\n",
    "delta = b**2 - 4 * a * c\n",
    "\n",
    "if delta < 0:\n",
    "    print('Delta= ', delta, 'negativo')\n",
    "    print('a equação nao possui raizes reais')\n",
    "\n",
    "elif delta == 0: \n",
    "    print('Delta= 0')\n",
    "    raiz = -b / (2 * a)\n",
    "    print('a equação possui uma raiz real: ', raiz)\n",
    "else:\n",
    "    print('delta =', delta, 'positivo')\n",
    "    raiz1 = (-b + delta**0.5) / (2 * a)\n",
    "    raiz2 = (-b - delta**0.5) / (2 * a)\n",
    "    print('a equação possui duas raizes reais: ')\n",
    "    print('x1= ', raiz1)\n",
    "    print('x2= ', raiz2)\n"
   ]
  },
  {
   "cell_type": "code",
   "execution_count": null,
   "id": "103e205d-566a-4e1e-b503-622e8d185f0c",
   "metadata": {},
   "outputs": [],
   "source": []
  }
 ],
 "metadata": {
  "kernelspec": {
   "display_name": "Python [conda env:base] *",
   "language": "python",
   "name": "conda-base-py"
  },
  "language_info": {
   "codemirror_mode": {
    "name": "ipython",
    "version": 3
   },
   "file_extension": ".py",
   "mimetype": "text/x-python",
   "name": "python",
   "nbconvert_exporter": "python",
   "pygments_lexer": "ipython3",
   "version": "3.12.7"
  }
 },
 "nbformat": 4,
 "nbformat_minor": 5
}
